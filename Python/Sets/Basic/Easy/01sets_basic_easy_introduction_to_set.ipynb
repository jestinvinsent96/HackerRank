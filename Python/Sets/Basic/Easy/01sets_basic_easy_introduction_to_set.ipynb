{
 "cells": [
  {
   "cell_type": "markdown",
   "metadata": {},
   "source": [
    "# [Introduction to Sets](https://www.hackerrank.com/challenges/py-introduction-to-sets)"
   ]
  },
  {
   "cell_type": "markdown",
   "metadata": {},
   "source": [
    "Now, let's use our knowledge of sets and help Mickey.\n",
    "\n",
    "Ms. Garbriel Williams is a botany professor at District College, One day, she asked her student Mickey to compute the average of all the plants with distinct heights in her greenhour.\n",
    "\n",
    "__Formula used:__\n",
    "\n",
    "Average = $\\frac{Sum of Distinct Heights}{Total Number of Distinct Heights}$\n",
    "\n",
    "__Function Description__\n",
    "\n",
    "average has the following parameters:\n",
    "-int arr: an array of integers\n",
    "\n",
    "__Returns__\n",
    "- float: the resulting float value rounded to 3 places after the decimal\n",
    "\n",
    "__Constraints__\n",
    "\n",
    "0 $\\lt N \\le 100$\n"
   ]
  },
  {
   "cell_type": "code",
   "execution_count": 7,
   "metadata": {},
   "outputs": [
    {
     "data": {
      "text/plain": [
       "169.375"
      ]
     },
     "execution_count": 7,
     "metadata": {},
     "output_type": "execute_result"
    }
   ],
   "source": [
    "from typing import List\n",
    "\n",
    "def average(array:List[int]) -> float:\n",
    "    array = set(array)\n",
    "    return sum(array) / len(array)\n",
    "\n",
    "arr = [161, 182, 161, 154, 176, 170, 167, 171, 170, 174]\n",
    "average(arr)"
   ]
  },
  {
   "cell_type": "code",
   "execution_count": null,
   "metadata": {},
   "outputs": [],
   "source": []
  }
 ],
 "metadata": {
  "interpreter": {
   "hash": "3d5e56b6272b248fed4f91d52a455c89a09913aa9d6eb42400510940d0858c37"
  },
  "kernelspec": {
   "display_name": "Python 3.10.4 64-bit",
   "language": "python",
   "name": "python3"
  },
  "language_info": {
   "codemirror_mode": {
    "name": "ipython",
    "version": 3
   },
   "file_extension": ".py",
   "mimetype": "text/x-python",
   "name": "python",
   "nbconvert_exporter": "python",
   "pygments_lexer": "ipython3",
   "version": "3.10.4"
  },
  "orig_nbformat": 4
 },
 "nbformat": 4,
 "nbformat_minor": 2
}
