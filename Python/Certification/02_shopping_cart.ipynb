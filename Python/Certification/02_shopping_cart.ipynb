{
 "cells": [
  {
   "cell_type": "markdown",
   "metadata": {},
   "source": [
    "# Shopping Cart"
   ]
  },
  {
   "cell_type": "markdown",
   "metadata": {},
   "source": [
    "The task is to implement two classes: _ShoppingCart_ and _Item_ according to the following requirements:\n",
    "\n",
    "_Item_\n",
    "- An item is instantiated using the constructor _Item_(name:str, price:int) where the name denotes the name of the item, and the price denotes the prices of the item.\n",
    "- Its name can be retrieved as a normal attribute, that is, if _item_ is an instance of _Item_, then _item.name_ returns the name of the item.\n",
    "\n",
    "_ShoppingCart_\n",
    "- A shopping cart is instantiated using a constructor without arguments, i.e. ShoppingCart()\n",
    "- It has a method _add_-(item:Item) that adds the given item to the cart. An item may be added to the cart multiple times. An item will be added each time the add method is called.\n",
    "- It has a method, total() -> int, that returns the sum of the prices of all items currently in the cart.\n",
    "- Calling _len_(cart) where the cart is an instance of a _ShoppingCart_ returns the number of items in the cart.\n",
    "\n",
    "__Constraints__\n",
    "- There will be at most 5 different items.\n",
    "- There will be at most 500 operations to perform on the cart."
   ]
  },
  {
   "cell_type": "code",
   "execution_count": 2,
   "metadata": {},
   "outputs": [],
   "source": [
    "class Item:\n",
    "    def __init__(self, name:str, price:int):\n",
    "        self.name = name\n",
    "        self.price = price\n",
    "\n",
    "\n",
    "class ShoppingCart:\n",
    "    def __init__(self):\n",
    "        self.items = []\n",
    "    \n",
    "    def add(self, item:Item):\n",
    "        self.items.append(item)\n",
    "    \n",
    "    def total(self) -> int:\n",
    "        return sum(map(lambda x: x.price, self.items))\n",
    "    \n",
    "    def __len__(self):\n",
    "        return len(self.items)"
   ]
  },
  {
   "cell_type": "code",
   "execution_count": 8,
   "metadata": {},
   "outputs": [
    {
     "name": "stdout",
     "output_type": "stream",
     "text": [
      "\n",
      "Added Item : bike -> Price : 1000\n",
      "Cart Total : 1000\n",
      "Items in Cart : 1\n",
      "          \n",
      "\n",
      "Added Item : headphones -> Price : 100\n",
      "Cart Total : 1100\n",
      "Items in Cart : 2\n",
      "          \n"
     ]
    }
   ],
   "source": [
    "items = list(map(lambda x: Item(x[0], x[1]), ((\"bike\", 1000), (\"headphones\", 100))))\n",
    "cart = ShoppingCart()\n",
    "\n",
    "for i in items:\n",
    "    cart.add(i)\n",
    "    print(f\"\"\"\n",
    "Added Item : {i.name} -> Price : {i.price}\n",
    "Cart Total : {cart.total()}\n",
    "Items in Cart : {len(cart)}\n",
    "          \"\"\")"
   ]
  },
  {
   "cell_type": "code",
   "execution_count": null,
   "metadata": {},
   "outputs": [],
   "source": []
  }
 ],
 "metadata": {
  "interpreter": {
   "hash": "3d5e56b6272b248fed4f91d52a455c89a09913aa9d6eb42400510940d0858c37"
  },
  "kernelspec": {
   "display_name": "Python 3.10.4 64-bit",
   "language": "python",
   "name": "python3"
  },
  "language_info": {
   "codemirror_mode": {
    "name": "ipython",
    "version": 3
   },
   "file_extension": ".py",
   "mimetype": "text/x-python",
   "name": "python",
   "nbconvert_exporter": "python",
   "pygments_lexer": "ipython3",
   "version": "3.10.4"
  },
  "orig_nbformat": 4
 },
 "nbformat": 4,
 "nbformat_minor": 2
}
