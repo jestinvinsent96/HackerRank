{
 "cells": [
  {
   "cell_type": "markdown",
   "metadata": {},
   "source": [
    "# Vending Machine"
   ]
  },
  {
   "cell_type": "markdown",
   "metadata": {},
   "source": [
    "__Implement class__: _VendingMachine_ according to the following requirements:\n",
    "- can be instantiated using the constructor _VendingMachine_(num_items, item_price) where num_items denotes the number of items in the machine, and item_price denotes the required number of coins to buy a single item.\n",
    "- has a method _buy_(req_items, money) that represents a buy requrest where _req_items_ denotes the requested number of items, and _money_ is the amount the customer puts into the machine. Depending on the state of machine, one of the following happends.\n",
    "1. If there are enough items in the machine to serve the request and the given money is sufficient to buy the requested number of items, the number of items in the machine is reduced by the requested number of items. The method returns an integer denotes the change given back after the purchase.\n",
    "2. If there are fewer items in the macchine than the requested number, it raises a _ValueError_ exception with the message __\"Not enough items in the machine\"__.\n",
    "3. If there are enough items in the machine to serve the request but the given amount of money is less than their cost, it raises a _ValueError_ exception with the message __\"Not enough coins\"__.\n"
   ]
  },
  {
   "cell_type": "code",
   "execution_count": 2,
   "metadata": {},
   "outputs": [],
   "source": [
    "class VendingMachine:\n",
    "    def __init__(self, num_items, item_price):\n",
    "        self.num_items = num_items\n",
    "        self.item_price = item_price\n",
    "    \n",
    "    def buy(self, req_items, money):\n",
    "        if req_items.__le__(self.num_items):\n",
    "        # if self.num_items.__gt__(req_items):\n",
    "            sub_total =  req_items * self.item_price\n",
    "            if money.__ge__(sub_total):\n",
    "            # if money.__gt__(sub_total):\n",
    "                self.num_items -= req_items\n",
    "                return abs(sub_total - money)\n",
    "            else:\n",
    "                raise ValueError(\"Not enough coins\")\n",
    "        else:\n",
    "            raise ValueError(\"Not enough items in the machine\")"
   ]
  },
  {
   "cell_type": "code",
   "execution_count": 4,
   "metadata": {},
   "outputs": [
    {
     "name": "stdout",
     "output_type": "stream",
     "text": [
      "3\n",
      "Not enough items in the machine\n",
      "86\n",
      "Not enough coins\n"
     ]
    }
   ],
   "source": [
    "machine = VendingMachine(10, 2)\n",
    "for req_item, price in (\n",
    "    (1, 5),\n",
    "    (10, 100),\n",
    "    (7, 100),\n",
    "    (2, 3)\n",
    "):\n",
    "    try:\n",
    "        print(machine.buy(req_item, price))\n",
    "    except Exception as err:\n",
    "        print(err)"
   ]
  },
  {
   "cell_type": "code",
   "execution_count": null,
   "metadata": {},
   "outputs": [],
   "source": []
  }
 ],
 "metadata": {
  "interpreter": {
   "hash": "3d5e56b6272b248fed4f91d52a455c89a09913aa9d6eb42400510940d0858c37"
  },
  "kernelspec": {
   "display_name": "Python 3.10.4 64-bit",
   "language": "python",
   "name": "python3"
  },
  "language_info": {
   "codemirror_mode": {
    "name": "ipython",
    "version": 3
   },
   "file_extension": ".py",
   "mimetype": "text/x-python",
   "name": "python",
   "nbconvert_exporter": "python",
   "pygments_lexer": "ipython3",
   "version": "3.10.4"
  },
  "orig_nbformat": 4
 },
 "nbformat": 4,
 "nbformat_minor": 2
}
