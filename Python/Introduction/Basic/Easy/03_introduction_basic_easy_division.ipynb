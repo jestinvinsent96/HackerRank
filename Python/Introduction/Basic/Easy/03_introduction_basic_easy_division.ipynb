{
 "cells": [
  {
   "cell_type": "markdown",
   "metadata": {},
   "source": [
    "# [Python Division](https://www.hackerrank.com/challenges/python-division)\n",
    "\n",
    "The provided code stub reads two integers, __a_- and __b__ from STDIN\n",
    "\n",
    "Add logic to print two lines. The first line should contain the result of integer division, __a__ // __b__.  The second line should contain the result of float division, __a__ / __b__.\n",
    "\n",
    "No rounding or formatting is necessary.\n",
    "\n",
    "__Example__\n",
    "\n",
    "__a = 3__\n",
    "\n",
    "__b = 5__\n",
    "- The result of the integer division __3 // 5 = 0__\n",
    "- The result of the float division __3 / 5 = 0.6__"
   ]
  },
  {
   "cell_type": "code",
   "execution_count": 2,
   "metadata": {},
   "outputs": [
    {
     "name": "stdout",
     "output_type": "stream",
     "text": [
      "0\n",
      "0.6\n"
     ]
    }
   ],
   "source": [
    "if __name__ == '__main__':\n",
    "    a = int(input())\n",
    "    b = int(input())\n",
    "    print(f\"\"\"{a // b}\n",
    "{a / b}\"\"\")"
   ]
  }
 ],
 "metadata": {
  "interpreter": {
   "hash": "3d5e56b6272b248fed4f91d52a455c89a09913aa9d6eb42400510940d0858c37"
  },
  "kernelspec": {
   "display_name": "Python 3.10.4 64-bit",
   "language": "python",
   "name": "python3"
  },
  "language_info": {
   "codemirror_mode": {
    "name": "ipython",
    "version": 3
   },
   "file_extension": ".py",
   "mimetype": "text/x-python",
   "name": "python",
   "nbconvert_exporter": "python",
   "pygments_lexer": "ipython3",
   "version": "3.10.4"
  },
  "orig_nbformat": 4
 },
 "nbformat": 4,
 "nbformat_minor": 2
}
