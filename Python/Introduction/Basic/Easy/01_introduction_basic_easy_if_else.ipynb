{
 "cells": [
  {
   "cell_type": "markdown",
   "metadata": {},
   "source": [
    "# [Python If Else](https://www.hackerrank.com/challenges/py-if-else/)"
   ]
  },
  {
   "cell_type": "markdown",
   "metadata": {},
   "source": [
    "Given an integer, _n_, perform the follwoing conditional actions:\n",
    "- if _n_ is odd, print __Weird__\n",
    "- if _n_ is even and in the inclusive range of __2__ to __5__, print __Not Weird__\n",
    "- if _n_ is even and in the inclusive range of __6__ and __20__, print __Weird__\n",
    "- if _n_ is even and greater than __20__, print __Not Weird__\n",
    "\n",
    "__Constraints__\n",
    "- $1 \\le n \\le 100$\n",
    "\n",
    "__Output Format__\n",
    "\n",
    "Print __Weird__ if the number is weird, Otherwise, Print __Not Weird__."
   ]
  },
  {
   "cell_type": "code",
   "execution_count": 4,
   "metadata": {},
   "outputs": [
    {
     "name": "stdout",
     "output_type": "stream",
     "text": [
      "Weird\n"
     ]
    }
   ],
   "source": [
    "n = 3 # To be change \n",
    "\n",
    "if not (n % 2):\n",
    "        if (n >= 2 and n <= 5) or (n > 20):\n",
    "            print(\"Not Weird\")\n",
    "        elif (n >= 6 and n <= 20):\n",
    "            print(\"Weird\")\n",
    "else:\n",
    "    print(\"Weird\")"
   ]
  }
 ],
 "metadata": {
  "interpreter": {
   "hash": "3d5e56b6272b248fed4f91d52a455c89a09913aa9d6eb42400510940d0858c37"
  },
  "kernelspec": {
   "display_name": "Python 3.10.4 64-bit",
   "language": "python",
   "name": "python3"
  },
  "language_info": {
   "codemirror_mode": {
    "name": "ipython",
    "version": 3
   },
   "file_extension": ".py",
   "mimetype": "text/x-python",
   "name": "python",
   "nbconvert_exporter": "python",
   "pygments_lexer": "ipython3",
   "version": "3.10.4"
  },
  "orig_nbformat": 4
 },
 "nbformat": 4,
 "nbformat_minor": 2
}
