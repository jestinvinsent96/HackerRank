{
 "cells": [
  {
   "cell_type": "markdown",
   "metadata": {},
   "source": [
    "# Merge the Tools"
   ]
  },
  {
   "cell_type": "code",
   "execution_count": 58,
   "metadata": {},
   "outputs": [
    {
     "name": "stdout",
     "output_type": "stream",
     "text": [
      "AB\n",
      "CA\n",
      "AD\n"
     ]
    }
   ],
   "source": [
    "s = 'AABCAAADA'\n",
    "k = 3\n",
    "\n",
    "def merge_the_tools(string, k):\n",
    "    \"\"\"\n",
    "    Equally seperates the given string by k,\n",
    "    and remove the non-distinct character\n",
    "    \"\"\"\n",
    "    sub_strings = list(zip(*[iter(string)] * k))\n",
    "    _sub_string = []\n",
    "    for sub_string in sub_strings:\n",
    "        unique_ch = []\n",
    "        for ch in sub_string:\n",
    "            if not ch in unique_ch:\n",
    "                unique_ch.append(ch)\n",
    "        _sub_string.append(\"\".join(unique_ch))\n",
    "    print(\"\\n\".join(_sub_string))\n",
    "    \n",
    "merge_the_tools(s, k)"
   ]
  }
 ],
 "metadata": {
  "interpreter": {
   "hash": "3d5e56b6272b248fed4f91d52a455c89a09913aa9d6eb42400510940d0858c37"
  },
  "kernelspec": {
   "display_name": "Python 3.10.4 64-bit",
   "language": "python",
   "name": "python3"
  },
  "language_info": {
   "codemirror_mode": {
    "name": "ipython",
    "version": 3
   },
   "file_extension": ".py",
   "mimetype": "text/x-python",
   "name": "python",
   "nbconvert_exporter": "python",
   "pygments_lexer": "ipython3",
   "version": "3.10.4"
  },
  "orig_nbformat": 4
 },
 "nbformat": 4,
 "nbformat_minor": 2
}
