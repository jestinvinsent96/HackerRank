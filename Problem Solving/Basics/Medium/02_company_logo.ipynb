{
 "cells": [
  {
   "cell_type": "markdown",
   "metadata": {},
   "source": [
    "# Company Logo"
   ]
  },
  {
   "cell_type": "code",
   "execution_count": 22,
   "metadata": {},
   "outputs": [
    {
     "name": "stdout",
     "output_type": "stream",
     "text": [
      "b 3\n",
      "a 2\n",
      "c 2\n"
     ]
    }
   ],
   "source": [
    "from collections import Counter\n",
    "\n",
    "s = 'aabbbccde'\n",
    "\n",
    "ch_counter = Counter(s)\n",
    "\n",
    "# Sorting in Descending order based on occurance count \n",
    "ch_counter = sorted(\n",
    "    ch_counter.items(),\n",
    "    key=lambda x: (-x[1], x[0])\n",
    ")\n",
    "\n",
    "# Three Most Common Characters.\n",
    "ch_counter = ch_counter[:3]\n",
    "\n",
    "# Printing the three most common characters\n",
    "# along with their occurance count each on a \n",
    "# seperate line\n",
    "print(\"\\n\".join(\n",
    "    map(\n",
    "        lambda x: f\"{x[0]} {x[1]}\",\n",
    "        ch_counter\n",
    "    )\n",
    "))"
   ]
  }
 ],
 "metadata": {
  "interpreter": {
   "hash": "3d5e56b6272b248fed4f91d52a455c89a09913aa9d6eb42400510940d0858c37"
  },
  "kernelspec": {
   "display_name": "Python 3.10.4 64-bit",
   "language": "python",
   "name": "python3"
  },
  "language_info": {
   "codemirror_mode": {
    "name": "ipython",
    "version": 3
   },
   "file_extension": ".py",
   "mimetype": "text/x-python",
   "name": "python",
   "nbconvert_exporter": "python",
   "pygments_lexer": "ipython3",
   "version": "3.10.4"
  },
  "orig_nbformat": 4
 },
 "nbformat": 4,
 "nbformat_minor": 2
}
