{
 "cells": [
  {
   "cell_type": "markdown",
   "metadata": {},
   "source": [
    "# Unexpected Demand\n",
    "\n",
    "A widget manufacturer is facing unexpectedly high demand for its new product., They would like to satisfy as many customers as possible. Given a number of widgets available and a list of customer orders, what is the maximum number of orders the manufacturrer can fulfill in full?\n",
    "\n",
    "__Function Description__\n",
    "\n",
    "The function must return a single integer denoting the maximum possible number of fulfilled orders.\n",
    "\n",
    "__Function Parameters__\n",
    "\n",
    "order : an array of integers listing the orders\n",
    "\n",
    "k: an integer denoting widgets available for shipment\n",
    "\n",
    "Return: Maximum number of orders can be fultilled.\n",
    "\n",
    "__Constraints__\n",
    "- 1 $\\le$ n $\\le$ 2 x $10^5$\n",
    "- 1 $\\le$ order[i] $\\le$ $10^9$\n",
    "- 1 $\\le$ k $\\le$ $10^9$"
   ]
  },
  {
   "cell_type": "code",
   "execution_count": 1,
   "metadata": {},
   "outputs": [
    {
     "name": "stdout",
     "output_type": "stream",
     "text": [
      "2\n",
      "1\n",
      "3\n",
      "0\n"
     ]
    }
   ],
   "source": [
    "def filledOrders(order, k):\n",
    "  order_total = 0\n",
    "  for order_idx, _order in enumerate(sorted(order)):\n",
    "    if order_total + _order <= k:\n",
    "      order_total += _order\n",
    "    else:\n",
    "      return order_idx         # Possible orders to be fulfilled\n",
    "  \n",
    "  return len(order)         # Fulfill all the orders\n",
    "\n",
    "print(filledOrders([3, 2, 1], 3))  # Out: 2\n",
    "print(filledOrders([3, 2, 1], 1))  # Out: 1\n",
    "print(filledOrders([3, 2, 1], 10)) # Out: 3\n",
    "print(filledOrders([3, 2, 1], 0))  # Out: 0"
   ]
  }
 ],
 "metadata": {
  "interpreter": {
   "hash": "3d5e56b6272b248fed4f91d52a455c89a09913aa9d6eb42400510940d0858c37"
  },
  "kernelspec": {
   "display_name": "Python 3.10.4 64-bit",
   "language": "python",
   "name": "python3"
  },
  "language_info": {
   "codemirror_mode": {
    "name": "ipython",
    "version": 3
   },
   "file_extension": ".py",
   "mimetype": "text/x-python",
   "name": "python",
   "nbconvert_exporter": "python",
   "pygments_lexer": "ipython3",
   "version": "3.10.4"
  },
  "orig_nbformat": 4
 },
 "nbformat": 4,
 "nbformat_minor": 2
}
