{
 "cells": [
  {
   "cell_type": "markdown",
   "metadata": {},
   "source": [
    "# Longest Subarray"
   ]
  },
  {
   "cell_type": "markdown",
   "metadata": {},
   "source": [
    "Given an array of itegers, what is the length of the longest subarray containing no more than two distinct values such that the distinct values differ by no more than 1?\n",
    "\n",
    "__Example__\n",
    "```python\n",
    "arr = [0, 1, 2, 1, 2, 3]\n",
    "```\n",
    "The largest such subarray has length 4:[1, 2, 1, 2]\n",
    "\n",
    "```python\n",
    "arr = [1, 1, 1, 3, 3, 2, 2]\n",
    "```\n",
    "The largest such subarray has length 4:[3, 3, 2, 2]. The values 1 and 3 differ by more than 1 so [1, 1, 1, 3, 3] is not valid\n",
    "\n",
    "__Function Description__\n",
    "_longestSubarray_ has the following parameter(s):\n",
    "```python\n",
    "int arr[n]: an array of integers\n",
    "```\n",
    "__Returns__:\n",
    "```python\n",
    "int: the length of the longest subarray\n",
    "```\n",
    "\n",
    "__Constraints__\n",
    "- The longest subarray will hav fewer than 35 elements.\n",
    "- 1 $\\le$ n $\\le$ $10^2$\n",
    "- 1 $\\le$ arr[i] $\\le$ $10^9$"
   ]
  },
  {
   "cell_type": "code",
   "execution_count": 24,
   "metadata": {},
   "outputs": [],
   "source": [
    "from typing import List\n",
    "\n",
    "def longestSubarray(arr: List[int]) -> int:\n",
    "    length_of_arr = len(arr)\n",
    "    if length_of_arr < 2:\n",
    "        return length_of_arr\n",
    "    \n",
    "    length_of_longest_subarray = best_lower = best_higher = 1\n",
    "    \n",
    "    for i in range(1, length_of_arr):\n",
    "        if arr[i] == arr[i-1]:\n",
    "            best_lower += 1\n",
    "            best_higher += 1\n",
    "        elif (arr[i] - 1 == arr[i-1]):\n",
    "            best_lower = 1 + best_higher\n",
    "            best_higher = 1\n",
    "        elif (arr[i] + 1 == arr[i-1]):\n",
    "            best_higher = 1 + best_lower\n",
    "            best_lower = 1\n",
    "        else:\n",
    "            best_lower = 1\n",
    "            best_higher = 1\n",
    "            \n",
    "        length_of_longest_subarray = max(length_of_longest_subarray, best_lower, best_higher)\n",
    "    return length_of_longest_subarray"
   ]
  },
  {
   "cell_type": "code",
   "execution_count": 25,
   "metadata": {},
   "outputs": [
    {
     "name": "stdout",
     "output_type": "stream",
     "text": [
      "4\n",
      "2\n",
      "4\n",
      "3\n"
     ]
    }
   ],
   "source": [
    "arrays = [\n",
    "    [0, 1, 2, 1, 2, 3],\n",
    "    [1, 2, 3, 4, 5],\n",
    "    [1, 1, 1, 3, 3, 2, 2],\n",
    "    \n",
    "]\n",
    "\n",
    "arrays = [\n",
    "  [0, 1, 2, 1, 2, 3],    # length = 4; [1,2,1,2]\n",
    "  [1, 2, 3, 4, 5],       # length = 2; [1,2]\n",
    "  [1, 1, 1, 3, 3, 2, 2], # length = 4; [3,3,2,2]\n",
    "  [2, 2, 1]              # length = 3; [2, 2, 1]\n",
    "]\n",
    "\n",
    "for arr in arrays:\n",
    "    print(longestSubarray(arr))"
   ]
  }
 ],
 "metadata": {
  "interpreter": {
   "hash": "3d5e56b6272b248fed4f91d52a455c89a09913aa9d6eb42400510940d0858c37"
  },
  "kernelspec": {
   "display_name": "Python 3.10.4 64-bit",
   "language": "python",
   "name": "python3"
  },
  "language_info": {
   "codemirror_mode": {
    "name": "ipython",
    "version": 3
   },
   "file_extension": ".py",
   "mimetype": "text/x-python",
   "name": "python",
   "nbconvert_exporter": "python",
   "pygments_lexer": "ipython3",
   "version": "3.10.4"
  },
  "orig_nbformat": 4
 },
 "nbformat": 4,
 "nbformat_minor": 2
}
